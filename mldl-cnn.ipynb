{
 "cells": [
  {
   "cell_type": "code",
   "execution_count": 1,
   "id": "62d3aa88",
   "metadata": {
    "_cell_guid": "b1076dfc-b9ad-4769-8c92-a6c4dae69d19",
    "_uuid": "8f2839f25d086af736a60e9eeb907d3b93b6e0e5",
    "execution": {
     "iopub.execute_input": "2023-10-09T06:50:02.032834Z",
     "iopub.status.busy": "2023-10-09T06:50:02.032523Z",
     "iopub.status.idle": "2023-10-09T06:50:02.682694Z",
     "shell.execute_reply": "2023-10-09T06:50:02.681710Z"
    },
    "papermill": {
     "duration": 0.657422,
     "end_time": "2023-10-09T06:50:02.684915",
     "exception": false,
     "start_time": "2023-10-09T06:50:02.027493",
     "status": "completed"
    },
    "tags": []
   },
   "outputs": [],
   "source": [
    "# This Python 3 environment comes with many helpful analytics libraries installed\n",
    "# It is defined by the kaggle/python Docker image: https://github.com/kaggle/docker-python\n",
    "# For example, here's several helpful packages to load\n",
    "\n",
    "import numpy as np # linear algebra\n",
    "import pandas as pd # data processing, CSV file I/O (e.g. pd.read_csv)\n",
    "\n",
    "# Input data files are available in the read-only \"../input/\" directory\n",
    "# For example, running this (by clicking run or pressing Shift+Enter) will list all files under the input directory\n",
    "\n",
    "import os\n",
    "for dirname, _, filenames in os.walk('/kaggle/input'):\n",
    "    for filename in filenames:\n",
    "        print(os.path.join(dirname, filename))\n",
    "\n",
    "# You can write up to 20GB to the current directory (/kaggle/working/) that gets preserved as output when you create a version using \"Save & Run All\" \n",
    "# You can also write temporary files to /kaggle/temp/, but they won't be saved outside of the current session"
   ]
  },
  {
   "cell_type": "code",
   "execution_count": 2,
   "id": "4bec5737",
   "metadata": {
    "execution": {
     "iopub.execute_input": "2023-10-09T06:50:02.692793Z",
     "iopub.status.busy": "2023-10-09T06:50:02.692406Z",
     "iopub.status.idle": "2023-10-09T06:50:06.494519Z",
     "shell.execute_reply": "2023-10-09T06:50:06.493538Z"
    },
    "papermill": {
     "duration": 3.808357,
     "end_time": "2023-10-09T06:50:06.496752",
     "exception": false,
     "start_time": "2023-10-09T06:50:02.688395",
     "status": "completed"
    },
    "tags": []
   },
   "outputs": [],
   "source": [
    "import cv2\n",
    "import PIL\n",
    "import numpy as np\n",
    "from tqdm.auto import tqdm\n",
    "import matplotlib.pyplot as plt\n",
    "\n",
    "import torch\n",
    "import torch.nn as nn\n",
    "import torch.nn.functional as F\n",
    "import torchvision\n",
    "from torchvision import transforms, datasets\n",
    "from torch.utils.data import Dataset, DataLoader\n"
   ]
  },
  {
   "cell_type": "code",
   "execution_count": 3,
   "id": "89f1d631",
   "metadata": {
    "execution": {
     "iopub.execute_input": "2023-10-09T06:50:06.507627Z",
     "iopub.status.busy": "2023-10-09T06:50:06.506548Z",
     "iopub.status.idle": "2023-10-09T06:50:06.576072Z",
     "shell.execute_reply": "2023-10-09T06:50:06.575119Z"
    },
    "papermill": {
     "duration": 0.076793,
     "end_time": "2023-10-09T06:50:06.578686",
     "exception": false,
     "start_time": "2023-10-09T06:50:06.501893",
     "status": "completed"
    },
    "tags": []
   },
   "outputs": [
    {
     "name": "stdout",
     "output_type": "stream",
     "text": [
      "Using Pytorch v2.0.0, Device: cuda\n"
     ]
    }
   ],
   "source": [
    "DEVICE = torch.device('cuda') if torch.cuda.is_available() else torch.device('cpu')\n",
    "\n",
    "print(f\"Using Pytorch v{torch.__version__}, Device: {DEVICE}\")"
   ]
  },
  {
   "cell_type": "code",
   "execution_count": 4,
   "id": "607ffcad",
   "metadata": {
    "execution": {
     "iopub.execute_input": "2023-10-09T06:50:06.586985Z",
     "iopub.status.busy": "2023-10-09T06:50:06.586678Z",
     "iopub.status.idle": "2023-10-09T06:50:22.593619Z",
     "shell.execute_reply": "2023-10-09T06:50:22.592669Z"
    },
    "papermill": {
     "duration": 16.013238,
     "end_time": "2023-10-09T06:50:22.595780",
     "exception": false,
     "start_time": "2023-10-09T06:50:06.582542",
     "status": "completed"
    },
    "tags": []
   },
   "outputs": [
    {
     "name": "stdout",
     "output_type": "stream",
     "text": [
      "Downloading https://www.cs.toronto.edu/~kriz/cifar-10-python.tar.gz to ./CIFAR_10/cifar-10-python.tar.gz\n"
     ]
    },
    {
     "name": "stderr",
     "output_type": "stream",
     "text": [
      "100%|██████████| 170498071/170498071 [00:12<00:00, 14183396.27it/s]\n"
     ]
    },
    {
     "name": "stdout",
     "output_type": "stream",
     "text": [
      "Extracting ./CIFAR_10/cifar-10-python.tar.gz to ./CIFAR_10\n"
     ]
    }
   ],
   "source": [
    "cifar = datasets.CIFAR10(root=\"./CIFAR_10\", train=True, download=True)"
   ]
  },
  {
   "cell_type": "code",
   "execution_count": 5,
   "id": "81d369c0",
   "metadata": {
    "execution": {
     "iopub.execute_input": "2023-10-09T06:50:22.612233Z",
     "iopub.status.busy": "2023-10-09T06:50:22.611962Z",
     "iopub.status.idle": "2023-10-09T06:50:22.616755Z",
     "shell.execute_reply": "2023-10-09T06:50:22.615889Z"
    },
    "papermill": {
     "duration": 0.01449,
     "end_time": "2023-10-09T06:50:22.618558",
     "exception": false,
     "start_time": "2023-10-09T06:50:22.604068",
     "status": "completed"
    },
    "tags": []
   },
   "outputs": [
    {
     "name": "stdout",
     "output_type": "stream",
     "text": [
      "(<PIL.Image.Image image mode=RGB size=32x32 at 0x7C47E609F790>, 6)\n"
     ]
    }
   ],
   "source": [
    "print(cifar[0])"
   ]
  },
  {
   "cell_type": "markdown",
   "id": "f8447423",
   "metadata": {
    "papermill": {
     "duration": 0.006971,
     "end_time": "2023-10-09T06:50:22.632103",
     "exception": false,
     "start_time": "2023-10-09T06:50:22.625132",
     "status": "completed"
    },
    "tags": []
   },
   "source": [
    "## Visualize the 5th element of the cifar10 train dataset with its label.\n",
    "- hint 1: Use plt.imshow() func to visualize the image.\n",
    "- hint 2: Use CIFAR10_LABEL to extract the label. With the given label index in the dataset, you can extract the label."
   ]
  },
  {
   "cell_type": "code",
   "execution_count": 6,
   "id": "8f7a7811",
   "metadata": {
    "execution": {
     "iopub.execute_input": "2023-10-09T06:50:22.647379Z",
     "iopub.status.busy": "2023-10-09T06:50:22.647032Z",
     "iopub.status.idle": "2023-10-09T06:50:22.651695Z",
     "shell.execute_reply": "2023-10-09T06:50:22.650693Z"
    },
    "papermill": {
     "duration": 0.01444,
     "end_time": "2023-10-09T06:50:22.653517",
     "exception": false,
     "start_time": "2023-10-09T06:50:22.639077",
     "status": "completed"
    },
    "tags": []
   },
   "outputs": [],
   "source": [
    "CIFAR10_LABEL = ['airplane','automobile','bird', 'cat', 'deer', 'dog', 'frog', 'horse', 'ship', 'truck']"
   ]
  },
  {
   "cell_type": "code",
   "execution_count": null,
   "id": "24dcac79",
   "metadata": {
    "papermill": {
     "duration": 0.006991,
     "end_time": "2023-10-09T06:50:22.667396",
     "exception": false,
     "start_time": "2023-10-09T06:50:22.660405",
     "status": "completed"
    },
    "tags": []
   },
   "outputs": [],
   "source": []
  },
  {
   "cell_type": "code",
   "execution_count": 7,
   "id": "870fc2b1",
   "metadata": {
    "execution": {
     "iopub.execute_input": "2023-10-09T06:50:22.683526Z",
     "iopub.status.busy": "2023-10-09T06:50:22.682684Z",
     "iopub.status.idle": "2023-10-09T06:50:22.978267Z",
     "shell.execute_reply": "2023-10-09T06:50:22.977357Z"
    },
    "papermill": {
     "duration": 0.305773,
     "end_time": "2023-10-09T06:50:22.980212",
     "exception": false,
     "start_time": "2023-10-09T06:50:22.674439",
     "status": "completed"
    },
    "tags": []
   },
   "outputs": [
    {
     "data": {
      "image/png": "[encoded data removed]",
      "text/plain": [
       "<Figure size 640x480 with 1 Axes>"
      ]
     },
     "metadata": {},
     "output_type": "display_data"
    }
   ],
   "source": [
    "plt.imshow(cifar[4][0])\n",
    "plt.title(CIFAR10_LABEL[cifar.targets[4]])\n",
    "\n",
    "\n",
    "def plot_image(image: PIL.Image.Image, label: str):\n",
    "    plt.imshow(image)\n",
    "    plt.title(label)\n",
    "    plt.axis('off')"
   ]
  },
  {
   "cell_type": "code",
   "execution_count": 8,
   "id": "deb1428e",
   "metadata": {
    "execution": {
     "iopub.execute_input": "2023-10-09T06:50:22.997054Z",
     "iopub.status.busy": "2023-10-09T06:50:22.996734Z",
     "iopub.status.idle": "2023-10-09T06:50:23.223493Z",
     "shell.execute_reply": "2023-10-09T06:50:23.222611Z"
    },
    "papermill": {
     "duration": 0.237587,
     "end_time": "2023-10-09T06:50:23.225357",
     "exception": false,
     "start_time": "2023-10-09T06:50:22.987770",
     "status": "completed"
    },
    "tags": []
   },
   "outputs": [
    {
     "data": {
      "image/png": "[encoded data removed]",
      "text/plain": [
       "<Figure size 640x480 with 1 Axes>"
      ]
     },
     "metadata": {},
     "output_type": "display_data"
    }
   ],
   "source": [
    "for i in range(5):\n",
    "    plot_image(cifar[i][0], CIFAR10_LABEL[cifar.targets[i]])"
   ]
  },
  {
   "cell_type": "markdown",
   "id": "e1f8b530",
   "metadata": {
    "papermill": {
     "duration": 0.00718,
     "end_time": "2023-10-09T06:50:23.240294",
     "exception": false,
     "start_time": "2023-10-09T06:50:23.233114",
     "status": "completed"
    },
    "tags": []
   },
   "source": [
    "## Custom Dataset"
   ]
  },
  {
   "cell_type": "code",
   "execution_count": 9,
   "id": "a3334a0c",
   "metadata": {
    "execution": {
     "iopub.execute_input": "2023-10-09T06:50:23.256892Z",
     "iopub.status.busy": "2023-10-09T06:50:23.256024Z",
     "iopub.status.idle": "2023-10-09T06:50:23.262012Z",
     "shell.execute_reply": "2023-10-09T06:50:23.261092Z"
    },
    "papermill": {
     "duration": 0.016494,
     "end_time": "2023-10-09T06:50:23.263959",
     "exception": false,
     "start_time": "2023-10-09T06:50:23.247465",
     "status": "completed"
    },
    "tags": []
   },
   "outputs": [],
   "source": [
    "'''\n",
    "CIFAR10 데이터셋 커스터 마이징\n",
    "'''\n",
    "class CustomDataset(Dataset):\n",
    "    def __init__(self, train, data_dir='./CIFAR_10_Custom'):\n",
    "        self.data = datasets.CIFAR10(root=data_dir, train=train, download=True)\n",
    "    \n",
    "    def __len__(self):\n",
    "        return len(self.data)\n",
    "    \n",
    "    def __getitem__(self, idx):\n",
    "        return self.data[idx]\n"
   ]
  },
  {
   "cell_type": "code",
   "execution_count": 10,
   "id": "5ace3a55",
   "metadata": {
    "execution": {
     "iopub.execute_input": "2023-10-09T06:50:23.281614Z",
     "iopub.status.busy": "2023-10-09T06:50:23.280947Z",
     "iopub.status.idle": "2023-10-09T06:50:39.083705Z",
     "shell.execute_reply": "2023-10-09T06:50:39.082686Z"
    },
    "papermill": {
     "duration": 15.814394,
     "end_time": "2023-10-09T06:50:39.085959",
     "exception": false,
     "start_time": "2023-10-09T06:50:23.271565",
     "status": "completed"
    },
    "tags": []
   },
   "outputs": [
    {
     "name": "stdout",
     "output_type": "stream",
     "text": [
      "Downloading https://www.cs.toronto.edu/~kriz/cifar-10-python.tar.gz to ./CIFAR_10_Custom/cifar-10-python.tar.gz\n"
     ]
    },
    {
     "name": "stderr",
     "output_type": "stream",
     "text": [
      "100%|██████████| 170498071/170498071 [00:11<00:00, 14231259.10it/s]\n"
     ]
    },
    {
     "name": "stdout",
     "output_type": "stream",
     "text": [
      "Extracting ./CIFAR_10_Custom/cifar-10-python.tar.gz to ./CIFAR_10_Custom\n"
     ]
    }
   ],
   "source": [
    "train_dataset = CustomDataset(train=True)"
   ]
  },
  {
   "cell_type": "code",
   "execution_count": 11,
   "id": "3525ac65",
   "metadata": {
    "execution": {
     "iopub.execute_input": "2023-10-09T06:50:39.112312Z",
     "iopub.status.busy": "2023-10-09T06:50:39.111265Z",
     "iopub.status.idle": "2023-10-09T06:50:39.826292Z",
     "shell.execute_reply": "2023-10-09T06:50:39.825374Z"
    },
    "papermill": {
     "duration": 0.730463,
     "end_time": "2023-10-09T06:50:39.828558",
     "exception": false,
     "start_time": "2023-10-09T06:50:39.098095",
     "status": "completed"
    },
    "tags": []
   },
   "outputs": [
    {
     "name": "stdout",
     "output_type": "stream",
     "text": [
      "Files already downloaded and verified\n"
     ]
    }
   ],
   "source": [
    "test_dataset = CustomDataset(train=False)"
   ]
  },
  {
   "cell_type": "code",
   "execution_count": 12,
   "id": "5e01e0eb",
   "metadata": {
    "execution": {
     "iopub.execute_input": "2023-10-09T06:50:39.852995Z",
     "iopub.status.busy": "2023-10-09T06:50:39.852673Z",
     "iopub.status.idle": "2023-10-09T06:50:40.223405Z",
     "shell.execute_reply": "2023-10-09T06:50:40.222496Z"
    },
    "papermill": {
     "duration": 0.385011,
     "end_time": "2023-10-09T06:50:40.225326",
     "exception": false,
     "start_time": "2023-10-09T06:50:39.840315",
     "status": "completed"
    },
    "tags": []
   },
   "outputs": [
    {
     "name": "stdout",
     "output_type": "stream",
     "text": [
      "<Image no.0>\n",
      "torch.Size([3, 32, 32])\n",
      "frog\n",
      "<Image no.1>\n",
      "torch.Size([3, 32, 32])\n",
      "truck\n",
      "<Image no.2>\n",
      "torch.Size([3, 32, 32])\n",
      "truck\n",
      "<Image no.3>\n",
      "torch.Size([3, 32, 32])\n",
      "deer\n"
     ]
    },
    {
     "data": {
      "image/png": "[encoded data removed]",
      "text/plain": [
       "<Figure size 640x480 with 4 Axes>"
      ]
     },
     "metadata": {},
     "output_type": "display_data"
    }
   ],
   "source": [
    "fig = plt.figure()\n",
    "plt.suptitle('CIFAR-10')\n",
    "for i in range(4):\n",
    "    print(f\"<Image no.{i}>\")\n",
    "    \n",
    "    image, label_idx = train_dataset[i]\n",
    "    label = CIFAR10_LABEL[label_idx]\n",
    "    \n",
    "    plt.subplot(2,2,i + 1)\n",
    "    plt.imshow(image)\n",
    "    plt.axis('off')\n",
    "    plt.title(label)\n",
    "    \n",
    "    toTensor = transforms.ToTensor()\n",
    "    image = toTensor(image)\n",
    "    \n",
    "    print(image.shape)\n",
    "    \n",
    "    print(label)"
   ]
  },
  {
   "cell_type": "code",
   "execution_count": null,
   "id": "39e5cddf",
   "metadata": {
    "papermill": {
     "duration": 0.012064,
     "end_time": "2023-10-09T06:50:40.249338",
     "exception": false,
     "start_time": "2023-10-09T06:50:40.237274",
     "status": "completed"
    },
    "tags": []
   },
   "outputs": [],
   "source": []
  }
 ],
 "metadata": {
  "kernelspec": {
   "display_name": "Python 3",
   "language": "python",
   "name": "python3"
  },
  "language_info": {
   "codemirror_mode": {
    "name": "ipython",
    "version": 3
   },
   "file_extension": ".py",
   "mimetype": "text/x-python",
   "name": "python",
   "nbconvert_exporter": "python",
   "pygments_lexer": "ipython3",
   "version": "3.10.12"
  },
  "papermill": {
   "default_parameters": {},
   "duration": 42.715902,
   "end_time": "2023-10-09T06:50:41.683486",
   "environment_variables": {},
   "exception": null,
   "input_path": "__notebook__.ipynb",
   "output_path": "__notebook__.ipynb",
   "parameters": {},
   "start_time": "2023-10-09T06:49:58.967584",
   "version": "2.4.0"
  }
 },
 "nbformat": 4,
 "nbformat_minor": 5
}
