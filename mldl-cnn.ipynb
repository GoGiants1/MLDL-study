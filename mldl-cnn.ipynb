{
 "cells": [
  {
   "cell_type": "code",
   "execution_count": 1,
   "id": "46783404",
   "metadata": {
    "_cell_guid": "b1076dfc-b9ad-4769-8c92-a6c4dae69d19",
    "_uuid": "8f2839f25d086af736a60e9eeb907d3b93b6e0e5",
    "execution": {
     "iopub.execute_input": "2023-10-09T07:48:58.806173Z",
     "iopub.status.busy": "2023-10-09T07:48:58.805853Z",
     "iopub.status.idle": "2023-10-09T07:48:59.447703Z",
     "shell.execute_reply": "2023-10-09T07:48:59.446800Z"
    },
    "papermill": {
     "duration": 0.649886,
     "end_time": "2023-10-09T07:48:59.449943",
     "exception": false,
     "start_time": "2023-10-09T07:48:58.800057",
     "status": "completed"
    },
    "tags": []
   },
   "outputs": [],
   "source": [
    "# This Python 3 environment comes with many helpful analytics libraries installed\n",
    "# It is defined by the kaggle/python Docker image: https://github.com/kaggle/docker-python\n",
    "# For example, here's several helpful packages to load\n",
    "\n",
    "import numpy as np # linear algebra\n",
    "import pandas as pd # data processing, CSV file I/O (e.g. pd.read_csv)\n",
    "\n",
    "# Input data files are available in the read-only \"../input/\" directory\n",
    "# For example, running this (by clicking run or pressing Shift+Enter) will list all files under the input directory\n",
    "\n",
    "import os\n",
    "for dirname, _, filenames in os.walk('/kaggle/input'):\n",
    "    for filename in filenames:\n",
    "        print(os.path.join(dirname, filename))\n",
    "\n",
    "# You can write up to 20GB to the current directory (/kaggle/working/) that gets preserved as output when you create a version using \"Save & Run All\" \n",
    "# You can also write temporary files to /kaggle/temp/, but they won't be saved outside of the current session"
   ]
  },
  {
   "cell_type": "code",
   "execution_count": 2,
   "id": "34261b94",
   "metadata": {
    "execution": {
     "iopub.execute_input": "2023-10-09T07:48:59.459010Z",
     "iopub.status.busy": "2023-10-09T07:48:59.458441Z",
     "iopub.status.idle": "2023-10-09T07:49:03.468051Z",
     "shell.execute_reply": "2023-10-09T07:49:03.467135Z"
    },
    "papermill": {
     "duration": 4.016131,
     "end_time": "2023-10-09T07:49:03.470108",
     "exception": false,
     "start_time": "2023-10-09T07:48:59.453977",
     "status": "completed"
    },
    "tags": []
   },
   "outputs": [],
   "source": [
    "import cv2\n",
    "import PIL\n",
    "import numpy as np\n",
    "from tqdm.auto import tqdm\n",
    "import matplotlib.pyplot as plt\n",
    "\n",
    "import torch\n",
    "import torch.nn as nn\n",
    "import torch.nn.functional as F\n",
    "import torchvision\n",
    "from torchvision import transforms, datasets\n",
    "from torch.utils.data import Dataset, DataLoader\n"
   ]
  },
  {
   "cell_type": "code",
   "execution_count": 3,
   "id": "bf2268e4",
   "metadata": {
    "execution": {
     "iopub.execute_input": "2023-10-09T07:49:03.481492Z",
     "iopub.status.busy": "2023-10-09T07:49:03.480001Z",
     "iopub.status.idle": "2023-10-09T07:49:03.558454Z",
     "shell.execute_reply": "2023-10-09T07:49:03.557562Z"
    },
    "papermill": {
     "duration": 0.086437,
     "end_time": "2023-10-09T07:49:03.560413",
     "exception": false,
     "start_time": "2023-10-09T07:49:03.473976",
     "status": "completed"
    },
    "tags": []
   },
   "outputs": [
    {
     "name": "stdout",
     "output_type": "stream",
     "text": [
      "Using Pytorch v2.0.0, Device: cuda\n"
     ]
    }
   ],
   "source": [
    "DEVICE = torch.device('cuda') if torch.cuda.is_available() else torch.device('cpu')\n",
    "\n",
    "print(f\"Using Pytorch v{torch.__version__}, Device: {DEVICE}\")"
   ]
  },
  {
   "cell_type": "code",
   "execution_count": 4,
   "id": "9a98ad63",
   "metadata": {
    "execution": {
     "iopub.execute_input": "2023-10-09T07:49:03.569127Z",
     "iopub.status.busy": "2023-10-09T07:49:03.568853Z",
     "iopub.status.idle": "2023-10-09T07:49:10.524388Z",
     "shell.execute_reply": "2023-10-09T07:49:10.523449Z"
    },
    "papermill": {
     "duration": 6.962397,
     "end_time": "2023-10-09T07:49:10.526581",
     "exception": false,
     "start_time": "2023-10-09T07:49:03.564184",
     "status": "completed"
    },
    "tags": []
   },
   "outputs": [
    {
     "name": "stdout",
     "output_type": "stream",
     "text": [
      "Downloading https://www.cs.toronto.edu/~kriz/cifar-10-python.tar.gz to ./CIFAR_10/cifar-10-python.tar.gz\n"
     ]
    },
    {
     "name": "stderr",
     "output_type": "stream",
     "text": [
      "100%|██████████| 170498071/170498071 [00:03<00:00, 42965285.42it/s]\n"
     ]
    },
    {
     "name": "stdout",
     "output_type": "stream",
     "text": [
      "Extracting ./CIFAR_10/cifar-10-python.tar.gz to ./CIFAR_10\n"
     ]
    }
   ],
   "source": [
    "cifar = datasets.CIFAR10(root=\"./CIFAR_10\", train=True, download=True)"
   ]
  },
  {
   "cell_type": "code",
   "execution_count": 5,
   "id": "857b9a62",
   "metadata": {
    "execution": {
     "iopub.execute_input": "2023-10-09T07:49:10.539526Z",
     "iopub.status.busy": "2023-10-09T07:49:10.538936Z",
     "iopub.status.idle": "2023-10-09T07:49:10.544513Z",
     "shell.execute_reply": "2023-10-09T07:49:10.543420Z"
    },
    "papermill": {
     "duration": 0.013847,
     "end_time": "2023-10-09T07:49:10.546389",
     "exception": false,
     "start_time": "2023-10-09T07:49:10.532542",
     "status": "completed"
    },
    "tags": []
   },
   "outputs": [
    {
     "name": "stdout",
     "output_type": "stream",
     "text": [
      "(<PIL.Image.Image image mode=RGB size=32x32 at 0x7E3F8BFEB7C0>, 6)\n"
     ]
    }
   ],
   "source": [
    "print(cifar[0])"
   ]
  },
  {
   "cell_type": "markdown",
   "id": "d01bcb0c",
   "metadata": {
    "papermill": {
     "duration": 0.005258,
     "end_time": "2023-10-09T07:49:10.556986",
     "exception": false,
     "start_time": "2023-10-09T07:49:10.551728",
     "status": "completed"
    },
    "tags": []
   },
   "source": [
    "## Visualize the 5th element of the cifar10 train dataset with its label.\n",
    "- hint 1: Use plt.imshow() func to visualize the image.\n",
    "- hint 2: Use CIFAR10_LABEL to extract the label. With the given label index in the dataset, you can extract the label."
   ]
  },
  {
   "cell_type": "code",
   "execution_count": 6,
   "id": "f022238d",
   "metadata": {
    "execution": {
     "iopub.execute_input": "2023-10-09T07:49:10.568687Z",
     "iopub.status.busy": "2023-10-09T07:49:10.568385Z",
     "iopub.status.idle": "2023-10-09T07:49:10.572445Z",
     "shell.execute_reply": "2023-10-09T07:49:10.571549Z"
    },
    "papermill": {
     "duration": 0.011976,
     "end_time": "2023-10-09T07:49:10.574121",
     "exception": false,
     "start_time": "2023-10-09T07:49:10.562145",
     "status": "completed"
    },
    "tags": []
   },
   "outputs": [],
   "source": [
    "CIFAR10_LABEL = ['airplane','automobile','bird', 'cat', 'deer', 'dog', 'frog', 'horse', 'ship', 'truck']"
   ]
  },
  {
   "cell_type": "code",
   "execution_count": 7,
   "id": "7248b80c",
   "metadata": {
    "execution": {
     "iopub.execute_input": "2023-10-09T07:49:10.585883Z",
     "iopub.status.busy": "2023-10-09T07:49:10.585513Z",
     "iopub.status.idle": "2023-10-09T07:49:10.874800Z",
     "shell.execute_reply": "2023-10-09T07:49:10.873899Z"
    },
    "papermill": {
     "duration": 0.297435,
     "end_time": "2023-10-09T07:49:10.876861",
     "exception": false,
     "start_time": "2023-10-09T07:49:10.579426",
     "status": "completed"
    },
    "tags": []
   },
   "outputs": [
    {
     "data": {
      "image/png": "[encoded data removed]",
      "text/plain": [
       "<Figure size 640x480 with 1 Axes>"
      ]
     },
     "metadata": {},
     "output_type": "display_data"
    }
   ],
   "source": [
    "plt.imshow(cifar[4][0])\n",
    "plt.title(CIFAR10_LABEL[cifar.targets[4]])\n",
    "\n",
    "\n",
    "def plot_image(image: PIL.Image.Image, label: str):\n",
    "    \n",
    "    plt.title(label)\n",
    "    plt.axis('off')"
   ]
  },
  {
   "cell_type": "code",
   "execution_count": 8,
   "id": "e2115909",
   "metadata": {
    "execution": {
     "iopub.execute_input": "2023-10-09T07:49:10.889625Z",
     "iopub.status.busy": "2023-10-09T07:49:10.889343Z",
     "iopub.status.idle": "2023-10-09T07:49:11.019902Z",
     "shell.execute_reply": "2023-10-09T07:49:11.018956Z"
    },
    "papermill": {
     "duration": 0.140107,
     "end_time": "2023-10-09T07:49:11.022844",
     "exception": false,
     "start_time": "2023-10-09T07:49:10.882737",
     "status": "completed"
    },
    "tags": []
   },
   "outputs": [
    {
     "data": {
      "image/png": "[encoded data removed]",
      "text/plain": [
       "<Figure size 640x480 with 1 Axes>"
      ]
     },
     "metadata": {},
     "output_type": "display_data"
    }
   ],
   "source": [
    "for i in range(5):\n",
    "    plot_image(cifar[i][0], CIFAR10_LABEL[cifar.targets[i]])"
   ]
  },
  {
   "cell_type": "markdown",
   "id": "538a8cae",
   "metadata": {
    "papermill": {
     "duration": 0.00865,
     "end_time": "2023-10-09T07:49:11.052316",
     "exception": false,
     "start_time": "2023-10-09T07:49:11.043666",
     "status": "completed"
    },
    "tags": []
   },
   "source": [
    "## Custom Dataset"
   ]
  },
  {
   "cell_type": "code",
   "execution_count": 9,
   "id": "a9f71c42",
   "metadata": {
    "execution": {
     "iopub.execute_input": "2023-10-09T07:49:11.066137Z",
     "iopub.status.busy": "2023-10-09T07:49:11.065834Z",
     "iopub.status.idle": "2023-10-09T07:49:11.071738Z",
     "shell.execute_reply": "2023-10-09T07:49:11.070635Z"
    },
    "papermill": {
     "duration": 0.015007,
     "end_time": "2023-10-09T07:49:11.073661",
     "exception": false,
     "start_time": "2023-10-09T07:49:11.058654",
     "status": "completed"
    },
    "tags": []
   },
   "outputs": [],
   "source": [
    "'''\n",
    "CIFAR10 데이터셋 커스터 마이징\n",
    "'''\n",
    "class CustomDataset(Dataset):\n",
    "    def __init__(self, train, data_dir='./CIFAR_10_Custom'):\n",
    "        self.data = datasets.CIFAR10(root=data_dir, train=train, download=True)\n",
    "    \n",
    "    def __len__(self):\n",
    "        return len(self.data)\n",
    "    \n",
    "    def __getitem__(self, idx):\n",
    "        return self.data[idx]\n"
   ]
  },
  {
   "cell_type": "code",
   "execution_count": 10,
   "id": "387e6366",
   "metadata": {
    "execution": {
     "iopub.execute_input": "2023-10-09T07:49:11.087817Z",
     "iopub.status.busy": "2023-10-09T07:49:11.087543Z",
     "iopub.status.idle": "2023-10-09T07:49:19.749765Z",
     "shell.execute_reply": "2023-10-09T07:49:19.748785Z"
    },
    "papermill": {
     "duration": 8.672735,
     "end_time": "2023-10-09T07:49:19.752882",
     "exception": false,
     "start_time": "2023-10-09T07:49:11.080147",
     "status": "completed"
    },
    "tags": []
   },
   "outputs": [
    {
     "name": "stdout",
     "output_type": "stream",
     "text": [
      "Downloading https://www.cs.toronto.edu/~kriz/cifar-10-python.tar.gz to ./CIFAR_10_Custom/cifar-10-python.tar.gz\n"
     ]
    },
    {
     "name": "stderr",
     "output_type": "stream",
     "text": [
      "100%|██████████| 170498071/170498071 [00:05<00:00, 31037130.08it/s]\n"
     ]
    },
    {
     "name": "stdout",
     "output_type": "stream",
     "text": [
      "Extracting ./CIFAR_10_Custom/cifar-10-python.tar.gz to ./CIFAR_10_Custom\n"
     ]
    }
   ],
   "source": [
    "train_dataset = CustomDataset(train=True)"
   ]
  },
  {
   "cell_type": "code",
   "execution_count": 11,
   "id": "5ee489af",
   "metadata": {
    "execution": {
     "iopub.execute_input": "2023-10-09T07:49:19.790128Z",
     "iopub.status.busy": "2023-10-09T07:49:19.789669Z",
     "iopub.status.idle": "2023-10-09T07:49:20.521732Z",
     "shell.execute_reply": "2023-10-09T07:49:20.520750Z"
    },
    "papermill": {
     "duration": 0.754608,
     "end_time": "2023-10-09T07:49:20.523962",
     "exception": false,
     "start_time": "2023-10-09T07:49:19.769354",
     "status": "completed"
    },
    "tags": []
   },
   "outputs": [
    {
     "name": "stdout",
     "output_type": "stream",
     "text": [
      "Files already downloaded and verified\n"
     ]
    }
   ],
   "source": [
    "test_dataset = CustomDataset(train=False)"
   ]
  },
  {
   "cell_type": "code",
   "execution_count": 12,
   "id": "7896ae71",
   "metadata": {
    "execution": {
     "iopub.execute_input": "2023-10-09T07:49:20.541969Z",
     "iopub.status.busy": "2023-10-09T07:49:20.541691Z",
     "iopub.status.idle": "2023-10-09T07:49:20.977695Z",
     "shell.execute_reply": "2023-10-09T07:49:20.976701Z"
    },
    "papermill": {
     "duration": 0.446957,
     "end_time": "2023-10-09T07:49:20.979627",
     "exception": false,
     "start_time": "2023-10-09T07:49:20.532670",
     "status": "completed"
    },
    "tags": []
   },
   "outputs": [
    {
     "name": "stdout",
     "output_type": "stream",
     "text": [
      "<Image no.0>\n",
      "torch.Size([3, 32, 32])\n",
      "frog\n",
      "<Image no.1>\n",
      "torch.Size([3, 32, 32])\n",
      "truck\n",
      "<Image no.2>\n",
      "torch.Size([3, 32, 32])\n",
      "truck\n",
      "<Image no.3>\n",
      "torch.Size([3, 32, 32])\n",
      "deer\n"
     ]
    },
    {
     "data": {
      "image/png": "[encoded data removed]",
      "text/plain": [
       "<Figure size 640x480 with 4 Axes>"
      ]
     },
     "metadata": {},
     "output_type": "display_data"
    }
   ],
   "source": [
    "fig = plt.figure()\n",
    "plt.suptitle('CIFAR-10')\n",
    "for i in range(4):\n",
    "    print(f\"<Image no.{i}>\")\n",
    "    \n",
    "    image, label_idx = train_dataset[i]\n",
    "    label = CIFAR10_LABEL[label_idx]\n",
    "    \n",
    "    plt.subplot(2,2,i + 1)\n",
    "    plt.imshow(image)\n",
    "    plt.axis('off')\n",
    "    plt.title(label)\n",
    "    \n",
    "    toTensor = transforms.ToTensor()\n",
    "    image = toTensor(image)\n",
    "    \n",
    "    \n",
    "    print(image.shape)\n",
    "    \n",
    "    print(label)"
   ]
  },
  {
   "cell_type": "markdown",
   "id": "2aa65003",
   "metadata": {
    "papermill": {
     "duration": 0.009172,
     "end_time": "2023-10-09T07:49:20.998340",
     "exception": false,
     "start_time": "2023-10-09T07:49:20.989168",
     "status": "completed"
    },
    "tags": []
   },
   "source": [
    "## Collate_fn"
   ]
  },
  {
   "cell_type": "code",
   "execution_count": 13,
   "id": "327e806f",
   "metadata": {
    "execution": {
     "iopub.execute_input": "2023-10-09T07:49:21.017355Z",
     "iopub.status.busy": "2023-10-09T07:49:21.017038Z",
     "iopub.status.idle": "2023-10-09T07:49:21.022824Z",
     "shell.execute_reply": "2023-10-09T07:49:21.021739Z"
    },
    "papermill": {
     "duration": 0.017379,
     "end_time": "2023-10-09T07:49:21.024519",
     "exception": false,
     "start_time": "2023-10-09T07:49:21.007140",
     "status": "completed"
    },
    "tags": []
   },
   "outputs": [],
   "source": [
    "def collate_fn(data_samples: list[tuple[PIL.Image.Image, int]])-> tuple:\n",
    "    batch_x, batch_y = [], []\n",
    "    toTensor = transforms.ToTensor()\n",
    "#     images, labels = zip(*data_samples)\n",
    "#     batch_x = [toTensor(x) for x in images]\n",
    "#     batch_y = labels\n",
    "    for i, (img, label) in enumerate(data_samples):\n",
    "        # img : (H, W, C)\n",
    "        # toTensor(img) -> (C, H, W)\n",
    "        batch_x.append(toTensor(img))\n",
    "        batch_y.append(torch.Tensor([label]))\n",
    "    batch_x = torch.stack(batch_x).float()\n",
    "    batch_y = torch.tensor(batch_y).long()\n",
    "    \n",
    "    return batch_x, batch_y"
   ]
  },
  {
   "cell_type": "code",
   "execution_count": 14,
   "id": "3b401d5a",
   "metadata": {
    "execution": {
     "iopub.execute_input": "2023-10-09T07:49:21.043659Z",
     "iopub.status.busy": "2023-10-09T07:49:21.043086Z",
     "iopub.status.idle": "2023-10-09T07:49:21.048459Z",
     "shell.execute_reply": "2023-10-09T07:49:21.047688Z"
    },
    "papermill": {
     "duration": 0.01673,
     "end_time": "2023-10-09T07:49:21.050191",
     "exception": false,
     "start_time": "2023-10-09T07:49:21.033461",
     "status": "completed"
    },
    "tags": []
   },
   "outputs": [],
   "source": [
    "batch_size = 8\n",
    "train_loader = DataLoader(dataset=train_dataset,\n",
    "                          batch_size=batch_size,\n",
    "                          shuffle=True,\n",
    "                          collate_fn=collate_fn\n",
    "                         )\n",
    "test_loader = DataLoader(dataset=test_dataset,\n",
    "                          batch_size=batch_size,\n",
    "                          shuffle=True,\n",
    "                          collate_fn=collate_fn\n",
    "                         )"
   ]
  },
  {
   "cell_type": "code",
   "execution_count": 15,
   "id": "96432bc0",
   "metadata": {
    "execution": {
     "iopub.execute_input": "2023-10-09T07:49:21.071666Z",
     "iopub.status.busy": "2023-10-09T07:49:21.070794Z",
     "iopub.status.idle": "2023-10-09T07:49:21.138387Z",
     "shell.execute_reply": "2023-10-09T07:49:21.137571Z"
    },
    "papermill": {
     "duration": 0.083102,
     "end_time": "2023-10-09T07:49:21.142072",
     "exception": false,
     "start_time": "2023-10-09T07:49:21.058970",
     "status": "completed"
    },
    "tags": []
   },
   "outputs": [
    {
     "name": "stdout",
     "output_type": "stream",
     "text": [
      "torch.Size([8, 3, 32, 32])\n",
      "torch.Size([8])\n",
      "tensor([[[[0.2392, 0.1882, 0.1765,  ..., 0.3412, 0.3412, 0.3686],\n",
      "          [0.2235, 0.1647, 0.1765,  ..., 0.3020, 0.3216, 0.3922],\n",
      "          [0.2157, 0.2078, 0.1765,  ..., 0.2706, 0.3294, 0.3490],\n",
      "          ...,\n",
      "          [0.2431, 0.2314, 0.2275,  ..., 0.4353, 0.2588, 0.1882],\n",
      "          [0.2549, 0.2510, 0.2471,  ..., 0.5608, 0.4078, 0.1490],\n",
      "          [0.2667, 0.2706, 0.2706,  ..., 0.3843, 0.3020, 0.2510]],\n",
      "\n",
      "         [[0.4157, 0.3647, 0.3490,  ..., 0.5098, 0.5020, 0.5294],\n",
      "          [0.3961, 0.3373, 0.3490,  ..., 0.4784, 0.4863, 0.5373],\n",
      "          [0.3922, 0.3843, 0.3490,  ..., 0.4784, 0.5373, 0.5412],\n",
      "          ...,\n",
      "          [0.4353, 0.4235, 0.4235,  ..., 0.4235, 0.2588, 0.2000],\n",
      "          [0.4471, 0.4431, 0.4431,  ..., 0.5373, 0.4078, 0.1608],\n",
      "          [0.4588, 0.4627, 0.4627,  ..., 0.3725, 0.3020, 0.2588]],\n",
      "\n",
      "         [[0.2706, 0.2196, 0.2039,  ..., 0.3451, 0.3373, 0.3569],\n",
      "          [0.2588, 0.2000, 0.2118,  ..., 0.3020, 0.3137, 0.3765],\n",
      "          [0.2392, 0.2314, 0.2000,  ..., 0.2863, 0.3451, 0.3686],\n",
      "          ...,\n",
      "          [0.2588, 0.2392, 0.2314,  ..., 0.3412, 0.1647, 0.1176],\n",
      "          [0.2706, 0.2588, 0.2471,  ..., 0.4627, 0.3176, 0.0902],\n",
      "          [0.2902, 0.2863, 0.2784,  ..., 0.2980, 0.2275, 0.1961]]],\n",
      "\n",
      "\n",
      "        [[[0.1412, 0.1490, 0.1451,  ..., 0.7373, 0.7725, 0.7373],\n",
      "          [0.1804, 0.2078, 0.1490,  ..., 0.6745, 0.7725, 0.8510],\n",
      "          [0.2157, 0.2314, 0.2196,  ..., 0.7412, 0.7529, 0.8353],\n",
      "          ...,\n",
      "          [0.9373, 0.9255, 0.9373,  ..., 0.6157, 0.6196, 0.7804],\n",
      "          [0.8902, 0.8824, 0.9176,  ..., 0.4784, 0.5451, 0.6510],\n",
      "          [0.8784, 0.8980, 0.8941,  ..., 0.4235, 0.3882, 0.4588]],\n",
      "\n",
      "         [[0.1569, 0.1765, 0.1725,  ..., 0.2196, 0.2706, 0.2314],\n",
      "          [0.1137, 0.1686, 0.1412,  ..., 0.0510, 0.1647, 0.2078],\n",
      "          [0.0980, 0.1098, 0.1255,  ..., 0.0118, 0.0314, 0.0588],\n",
      "          ...,\n",
      "          [0.9529, 0.9333, 0.9373,  ..., 0.4510, 0.4627, 0.6431],\n",
      "          [0.9020, 0.8941, 0.9255,  ..., 0.3216, 0.3922, 0.4392],\n",
      "          [0.8824, 0.9137, 0.9255,  ..., 0.2588, 0.2353, 0.2510]],\n",
      "\n",
      "         [[0.0275, 0.0392, 0.0275,  ..., 0.1569, 0.1843, 0.1451],\n",
      "          [0.0157, 0.0471, 0.0118,  ..., 0.0196, 0.1137, 0.1569],\n",
      "          [0.0039, 0.0078, 0.0118,  ..., 0.0157, 0.0235, 0.0510],\n",
      "          ...,\n",
      "          [0.8471, 0.8275, 0.8314,  ..., 0.3216, 0.3412, 0.5137],\n",
      "          [0.8000, 0.7804, 0.8039,  ..., 0.1882, 0.2745, 0.3255],\n",
      "          [0.7843, 0.7961, 0.7843,  ..., 0.1294, 0.1216, 0.1373]]],\n",
      "\n",
      "\n",
      "        [[[0.5373, 0.4824, 0.4745,  ..., 0.8588, 0.8941, 0.9059],\n",
      "          [0.5451, 0.5647, 0.6078,  ..., 0.9176, 0.9216, 0.9216],\n",
      "          [0.6314, 0.6588, 0.6706,  ..., 0.9216, 0.9176, 0.9137],\n",
      "          ...,\n",
      "          [0.3490, 0.3412, 0.3412,  ..., 0.5373, 0.5490, 0.5608],\n",
      "          [0.3451, 0.3333, 0.3412,  ..., 0.5373, 0.5216, 0.5569],\n",
      "          [0.3176, 0.3216, 0.3333,  ..., 0.5569, 0.5412, 0.5490]],\n",
      "\n",
      "         [[0.5176, 0.4627, 0.4549,  ..., 0.8118, 0.8510, 0.8667],\n",
      "          [0.5098, 0.5294, 0.5686,  ..., 0.8549, 0.8627, 0.8588],\n",
      "          [0.5725, 0.6039, 0.6157,  ..., 0.8471, 0.8392, 0.8275],\n",
      "          ...,\n",
      "          [0.3843, 0.3765, 0.3804,  ..., 0.5608, 0.5686, 0.5804],\n",
      "          [0.3843, 0.3725, 0.3843,  ..., 0.5608, 0.5529, 0.5843],\n",
      "          [0.3647, 0.3647, 0.3725,  ..., 0.5647, 0.5569, 0.5725]],\n",
      "\n",
      "         [[0.6510, 0.6275, 0.6275,  ..., 0.8078, 0.8353, 0.8471],\n",
      "          [0.6471, 0.6549, 0.6706,  ..., 0.8314, 0.8314, 0.8275],\n",
      "          [0.6588, 0.6667, 0.6745,  ..., 0.8039, 0.8000, 0.7882],\n",
      "          ...,\n",
      "          [0.6000, 0.6000, 0.6039,  ..., 0.7255, 0.7373, 0.7412],\n",
      "          [0.6039, 0.6039, 0.5961,  ..., 0.7294, 0.7255, 0.7490],\n",
      "          [0.5843, 0.5961, 0.5961,  ..., 0.7176, 0.7137, 0.7333]]],\n",
      "\n",
      "\n",
      "        ...,\n",
      "\n",
      "\n",
      "        [[[0.7255, 0.7333, 0.7176,  ..., 0.0745, 0.0667, 0.0627],\n",
      "          [0.7412, 0.7765, 0.8039,  ..., 0.0784, 0.0745, 0.0706],\n",
      "          [0.7451, 0.7608, 0.7647,  ..., 0.0902, 0.0863, 0.0824],\n",
      "          ...,\n",
      "          [0.6667, 0.7098, 0.6902,  ..., 0.7529, 0.7490, 0.7294],\n",
      "          [0.6863, 0.7255, 0.7294,  ..., 0.6706, 0.6941, 0.7294],\n",
      "          [0.6784, 0.6471, 0.6745,  ..., 0.7216, 0.7176, 0.6471]],\n",
      "\n",
      "         [[0.7373, 0.7451, 0.7294,  ..., 0.0078, 0.0039, 0.0000],\n",
      "          [0.7569, 0.7882, 0.8196,  ..., 0.0118, 0.0039, 0.0039],\n",
      "          [0.7608, 0.7765, 0.7804,  ..., 0.0078, 0.0039, 0.0039],\n",
      "          ...,\n",
      "          [0.7333, 0.7765, 0.7608,  ..., 0.7686, 0.7647, 0.7451],\n",
      "          [0.7529, 0.7922, 0.7961,  ..., 0.6980, 0.7255, 0.7569],\n",
      "          [0.7451, 0.7137, 0.7412,  ..., 0.7608, 0.7608, 0.6902]],\n",
      "\n",
      "         [[0.7608, 0.7686, 0.7529,  ..., 0.0627, 0.0510, 0.0392],\n",
      "          [0.7647, 0.8000, 0.8275,  ..., 0.0471, 0.0353, 0.0235],\n",
      "          [0.7569, 0.7765, 0.7804,  ..., 0.0588, 0.0471, 0.0392],\n",
      "          ...,\n",
      "          [0.6588, 0.7020, 0.6784,  ..., 0.7059, 0.7059, 0.6902],\n",
      "          [0.6784, 0.7176, 0.7216,  ..., 0.6353, 0.6588, 0.6941],\n",
      "          [0.6667, 0.6392, 0.6784,  ..., 0.7020, 0.6902, 0.6118]]],\n",
      "\n",
      "\n",
      "        [[[0.0745, 0.0824, 0.1059,  ..., 0.0980, 0.1020, 0.0824],\n",
      "          [0.1216, 0.1176, 0.1059,  ..., 0.0902, 0.1412, 0.1255],\n",
      "          [0.1255, 0.1255, 0.1216,  ..., 0.1294, 0.1333, 0.1294],\n",
      "          ...,\n",
      "          [0.1255, 0.1333, 0.1373,  ..., 0.0902, 0.0824, 0.0745],\n",
      "          [0.1490, 0.1529, 0.1647,  ..., 0.1020, 0.0941, 0.0941],\n",
      "          [0.1804, 0.1804, 0.1961,  ..., 0.1176, 0.1098, 0.1020]],\n",
      "\n",
      "         [[0.0784, 0.0863, 0.1059,  ..., 0.0980, 0.1020, 0.0824],\n",
      "          [0.1255, 0.1216, 0.1098,  ..., 0.0902, 0.1412, 0.1255],\n",
      "          [0.1294, 0.1294, 0.1255,  ..., 0.1294, 0.1333, 0.1294],\n",
      "          ...,\n",
      "          [0.1098, 0.1176, 0.1216,  ..., 0.0863, 0.0784, 0.0706],\n",
      "          [0.1333, 0.1373, 0.1490,  ..., 0.0980, 0.0902, 0.0902],\n",
      "          [0.1647, 0.1647, 0.1804,  ..., 0.1137, 0.1059, 0.0980]],\n",
      "\n",
      "         [[0.0706, 0.0784, 0.1020,  ..., 0.1059, 0.1098, 0.0902],\n",
      "          [0.0980, 0.0941, 0.0824,  ..., 0.0980, 0.1490, 0.1333],\n",
      "          [0.1020, 0.1020, 0.0980,  ..., 0.1373, 0.1412, 0.1373],\n",
      "          ...,\n",
      "          [0.0745, 0.0824, 0.0902,  ..., 0.0784, 0.0706, 0.0627],\n",
      "          [0.0902, 0.0941, 0.1059,  ..., 0.0902, 0.0824, 0.0824],\n",
      "          [0.1176, 0.1216, 0.1333,  ..., 0.1059, 0.0980, 0.0902]]],\n",
      "\n",
      "\n",
      "        [[[0.2980, 0.2549, 0.3490,  ..., 0.4471, 0.4275, 0.3882],\n",
      "          [0.4745, 0.2980, 0.3647,  ..., 0.4902, 0.4667, 0.4431],\n",
      "          [0.4118, 0.3216, 0.4863,  ..., 0.3882, 0.3294, 0.3647],\n",
      "          ...,\n",
      "          [0.5020, 0.3255, 0.4667,  ..., 0.5882, 0.7961, 0.7686],\n",
      "          [0.5608, 0.4784, 0.4353,  ..., 0.3804, 0.7020, 0.8078],\n",
      "          [0.5216, 0.5412, 0.6627,  ..., 0.3176, 0.6431, 0.8588]],\n",
      "\n",
      "         [[0.3333, 0.2784, 0.3686,  ..., 0.4902, 0.4706, 0.4314],\n",
      "          [0.5294, 0.3412, 0.4000,  ..., 0.5373, 0.5098, 0.4863],\n",
      "          [0.4745, 0.3686, 0.5216,  ..., 0.4314, 0.3725, 0.4078],\n",
      "          ...,\n",
      "          [0.5412, 0.3647, 0.4980,  ..., 0.6196, 0.8392, 0.8431],\n",
      "          [0.6039, 0.5176, 0.4745,  ..., 0.4157, 0.7490, 0.8784],\n",
      "          [0.5608, 0.5843, 0.7020,  ..., 0.3647, 0.7098, 0.9255]],\n",
      "\n",
      "         [[0.3569, 0.2784, 0.3765,  ..., 0.5098, 0.4863, 0.4471],\n",
      "          [0.5529, 0.3686, 0.4549,  ..., 0.5373, 0.5137, 0.5020],\n",
      "          [0.4941, 0.4000, 0.5804,  ..., 0.4471, 0.3922, 0.4235],\n",
      "          ...,\n",
      "          [0.5412, 0.3725, 0.5176,  ..., 0.6314, 0.8706, 0.8863],\n",
      "          [0.6039, 0.5216, 0.4745,  ..., 0.4039, 0.7608, 0.9137],\n",
      "          [0.5725, 0.5882, 0.6863,  ..., 0.3412, 0.7059, 0.9569]]]]) tensor([6, 3, 8, 5, 6, 2, 9, 6])\n"
     ]
    }
   ],
   "source": [
    "image, label = next(iter(train_loader))\n",
    "\n",
    "print(image.shape)\n",
    "print(label.shape)\n",
    "print(image, label)"
   ]
  },
  {
   "cell_type": "markdown",
   "id": "828ecc56",
   "metadata": {
    "papermill": {
     "duration": 0.008941,
     "end_time": "2023-10-09T07:49:21.161066",
     "exception": false,
     "start_time": "2023-10-09T07:49:21.152125",
     "status": "completed"
    },
    "tags": []
   },
   "source": [
    "## Transforms (Data Augmentation)"
   ]
  },
  {
   "cell_type": "code",
   "execution_count": 16,
   "id": "6b728788",
   "metadata": {
    "execution": {
     "iopub.execute_input": "2023-10-09T07:49:21.180880Z",
     "iopub.status.busy": "2023-10-09T07:49:21.180078Z",
     "iopub.status.idle": "2023-10-09T07:49:21.825838Z",
     "shell.execute_reply": "2023-10-09T07:49:21.824897Z"
    },
    "papermill": {
     "duration": 0.657928,
     "end_time": "2023-10-09T07:49:21.827999",
     "exception": false,
     "start_time": "2023-10-09T07:49:21.170071",
     "status": "completed"
    },
    "tags": []
   },
   "outputs": [
    {
     "data": {
      "image/png": "[encoded data removed]",
      "text/plain": [
       "<Figure size 1600x200 with 8 Axes>"
      ]
     },
     "metadata": {},
     "output_type": "display_data"
    }
   ],
   "source": [
    "def visualize_batch(batch, augment=None):\n",
    "    images, labels = batch\n",
    "    batch_size = images.shape[0]\n",
    "    pltsize = 2\n",
    "    plt.figure(figsize=(batch_size * pltsize, pltsize))\n",
    "    for i in range(batch_size):\n",
    "        plt.subplot(1, batch_size, i + 1)\n",
    "        plt.axis('off')\n",
    "        plt.imshow(np.transpose(augment(images[i]) if augment else images[i], (1, 2, 0)))\n",
    "        plt.title('Class: ' + str(CIFAR10_LABEL[labels[i].item()]))\n",
    "    \n",
    "sample_batch = next(iter(train_loader))\n",
    "visualize_batch(sample_batch)"
   ]
  },
  {
   "cell_type": "markdown",
   "id": "11d3a1c0",
   "metadata": {
    "papermill": {
     "duration": 0.0096,
     "end_time": "2023-10-09T07:49:21.847716",
     "exception": false,
     "start_time": "2023-10-09T07:49:21.838116",
     "status": "completed"
    },
    "tags": []
   },
   "source": [
    "## Apply Data augmentation usuing torchvision.transforms module"
   ]
  },
  {
   "cell_type": "code",
   "execution_count": null,
   "id": "59c14217",
   "metadata": {
    "papermill": {
     "duration": 0.009459,
     "end_time": "2023-10-09T07:49:21.866946",
     "exception": false,
     "start_time": "2023-10-09T07:49:21.857487",
     "status": "completed"
    },
    "tags": []
   },
   "outputs": [],
   "source": []
  }
 ],
 "metadata": {
  "kernelspec": {
   "display_name": "Python 3",
   "language": "python",
   "name": "python3"
  },
  "language_info": {
   "codemirror_mode": {
    "name": "ipython",
    "version": 3
   },
   "file_extension": ".py",
   "mimetype": "text/x-python",
   "name": "python",
   "nbconvert_exporter": "python",
   "pygments_lexer": "ipython3",
   "version": "3.10.12"
  },
  "papermill": {
   "default_parameters": {},
   "duration": 28.413536,
   "end_time": "2023-10-09T07:49:24.203721",
   "environment_variables": {},
   "exception": null,
   "input_path": "__notebook__.ipynb",
   "output_path": "__notebook__.ipynb",
   "parameters": {},
   "start_time": "2023-10-09T07:48:55.790185",
   "version": "2.4.0"
  }
 },
 "nbformat": 4,
 "nbformat_minor": 5
}
